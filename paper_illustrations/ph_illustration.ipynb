version https://git-lfs.github.com/spec/v1
oid sha256:e53098b1962dd0316a8bbe87403a8dfe6206691393f8dbbaa0573f1cb42d1a0a
size 8147775
